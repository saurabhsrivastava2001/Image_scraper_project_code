{
 "cells": [
  {
   "cell_type": "code",
   "execution_count": 21,
   "id": "59a52453",
   "metadata": {},
   "outputs": [],
   "source": [
    "import requests\n",
    "import logging\n",
    "import os\n",
    "from bs4 import BeautifulSoup\n",
    "from urllib.request import urlopen"
   ]
  },
  {
   "cell_type": "code",
   "execution_count": 22,
   "id": "eaed9226",
   "metadata": {},
   "outputs": [],
   "source": [
    "save_dir =\"image/\"\n",
    "if not os.path.exists(save_dir):\n",
    "    os.makedirs(save_dir)"
   ]
  },
  {
   "cell_type": "code",
   "execution_count": 23,
   "id": "c29dcce6",
   "metadata": {},
   "outputs": [],
   "source": [
    "query=\"virat kohli\"\n",
    "#url=https://www.google.com/search?q=query&tbm=isch&source=lnms&sa=X&ved=2ahUKEwinmd2pvNGAAxVzxTgGHTLtDZsQ0pQJegQIDRAB"
   ]
  },
  {
   "cell_type": "code",
   "execution_count": 24,
   "id": "e260d209",
   "metadata": {},
   "outputs": [],
   "source": [
    "response = requests.get(f\"https://www.google.com/search?q={query}&tbm=isch&source=lnms&sa=X&ved=2ahUKEwinmd2pvNGAAxVzxTgGHTLtDZsQ0pQJegQIDRAB\")"
   ]
  },
  {
   "cell_type": "code",
   "execution_count": 25,
   "id": "021444ad",
   "metadata": {},
   "outputs": [
    {
     "data": {
      "text/plain": [
       "<Response [200]>"
      ]
     },
     "execution_count": 25,
     "metadata": {},
     "output_type": "execute_result"
    }
   ],
   "source": [
    "response"
   ]
  },
  {
   "cell_type": "code",
   "execution_count": 26,
   "id": "6c4e8c51",
   "metadata": {},
   "outputs": [],
   "source": [
    "soup =BeautifulSoup(response.content,\"html.parser\" )"
   ]
  },
  {
   "cell_type": "code",
   "execution_count": 27,
   "id": "79d96616",
   "metadata": {},
   "outputs": [
    {
     "data": {
      "text/plain": [
       "[<img alt=\"Google\" class=\"kgJEQe\" src=\"/images/branding/searchlogo/1x/googlelogo_desk_heirloom_color_150x55dp.gif\"/>,\n",
       " <img alt=\"\" class=\"yWs4tf\" src=\"https://encrypted-tbn0.gstatic.com/images?q=tbn:ANd9GcSK5yCaJ2Z89H3mjG2pVjY9N4R5oiPNQPgSk0yYX4Wiv3mMSccD2ttNoKKUgg&amp;s\"/>,\n",
       " <img alt=\"\" class=\"yWs4tf\" src=\"https://encrypted-tbn0.gstatic.com/images?q=tbn:ANd9GcSsTQE9kUgA7CpXnlWeWO7nMT28THW_0zLfeLBhDC57BXHpZl6RjtWlXvCDD2M&amp;s\"/>,\n",
       " <img alt=\"\" class=\"yWs4tf\" src=\"https://encrypted-tbn0.gstatic.com/images?q=tbn:ANd9GcSjWdRodG8Y6ldFuSq2fgASCmjbfVVIzbnKcbwvpoULo3BBNC4lcGn3U3oppQ&amp;s\"/>,\n",
       " <img alt=\"\" class=\"yWs4tf\" src=\"https://encrypted-tbn0.gstatic.com/images?q=tbn:ANd9GcTReV0LciH03tq8BhPJQUDlahamoD23oX5-BsMeyykdWYERtg_Z-AkbRfyG9gs&amp;s\"/>,\n",
       " <img alt=\"\" class=\"yWs4tf\" src=\"https://encrypted-tbn0.gstatic.com/images?q=tbn:ANd9GcR31yH7qlDziUlJXlHkXWecPZWAX-UXw5HvmxOTVjhraNS4IrYozrED5TWnDQ&amp;s\"/>,\n",
       " <img alt=\"\" class=\"yWs4tf\" src=\"https://encrypted-tbn0.gstatic.com/images?q=tbn:ANd9GcSApOD8cC7Jh33c0VqbcFkcmx0og9wr1DYsD50a8Tp3p-0I33M_SuuLXA0Kizk&amp;s\"/>,\n",
       " <img alt=\"\" class=\"yWs4tf\" src=\"https://encrypted-tbn0.gstatic.com/images?q=tbn:ANd9GcRC7PXGvWDQRZyszF12W3RoXjr_nZ0Ox_CnclTzEmkLtB72VCOpuxZthQ2ib14&amp;s\"/>,\n",
       " <img alt=\"\" class=\"yWs4tf\" src=\"https://encrypted-tbn0.gstatic.com/images?q=tbn:ANd9GcT31MU-l5iezqCLOPE2jeiBB0geQsn8njIF0T290gdxybDBKMJOC5V1jM9QAg&amp;s\"/>,\n",
       " <img alt=\"\" class=\"yWs4tf\" src=\"https://encrypted-tbn0.gstatic.com/images?q=tbn:ANd9GcSYb2hCfNGHcxzN5b9S3ssbiROUoNyLW_WYSLKPOiUjeTmd23VX1a3T3e7Vlfk&amp;s\"/>,\n",
       " <img alt=\"\" class=\"yWs4tf\" src=\"https://encrypted-tbn0.gstatic.com/images?q=tbn:ANd9GcRLqGxMbCeVkZIDV3mQfmlpSxuBcW4YTlZBp78_utfaZ7ACU-1GI0fyT3cQVA&amp;s\"/>,\n",
       " <img alt=\"\" class=\"yWs4tf\" src=\"https://encrypted-tbn0.gstatic.com/images?q=tbn:ANd9GcS8KTiPsdIdv6tCZuf-oRwHoP4zesJHEmjSw7cAb2DxIRKzl8eI7bxEupbJGQI&amp;s\"/>,\n",
       " <img alt=\"\" class=\"yWs4tf\" src=\"https://encrypted-tbn0.gstatic.com/images?q=tbn:ANd9GcT1wPMwjom0BIO31H3orhKUkYsbT5oN4zOcNxb7iJU6UZEW74DL2MK14EkYsUc&amp;s\"/>,\n",
       " <img alt=\"\" class=\"yWs4tf\" src=\"https://encrypted-tbn0.gstatic.com/images?q=tbn:ANd9GcTF27J5DbugDvO5PfQZVxpxWaYymNDAlTcQRep6vIwaWkt4MHgXkAnf2dHCUbk&amp;s\"/>,\n",
       " <img alt=\"\" class=\"yWs4tf\" src=\"https://encrypted-tbn0.gstatic.com/images?q=tbn:ANd9GcRUmjrvGXJizjGvSXrZg2hAqbeIYK_tTwBST4GWzLF1IORFCBn3VI-ZPXIr5_w&amp;s\"/>,\n",
       " <img alt=\"\" class=\"yWs4tf\" src=\"https://encrypted-tbn0.gstatic.com/images?q=tbn:ANd9GcQMzIq1yMrFHamuJKT8uT9Mws9uEpBjvIn9NcqQTjrjCVLYbHqNjuYlnSk4GDE&amp;s\"/>,\n",
       " <img alt=\"\" class=\"yWs4tf\" src=\"https://encrypted-tbn0.gstatic.com/images?q=tbn:ANd9GcTdVtTUCV87q1r5a3BImPK6HRaZOcpYTzyjehh7WRZq4qeefQCZGQNj1S6NeB0&amp;s\"/>,\n",
       " <img alt=\"\" class=\"yWs4tf\" src=\"https://encrypted-tbn0.gstatic.com/images?q=tbn:ANd9GcQXhRozPeN_ofFzgMvQcHZvcplv3EpOrLtmrSnBG88kwoJo8RFn0Ev3aLykTYA&amp;s\"/>,\n",
       " <img alt=\"\" class=\"yWs4tf\" src=\"https://encrypted-tbn0.gstatic.com/images?q=tbn:ANd9GcRbZJgD7iZw2inZMyqTQA6ceeInZeJ469AwEeHVKdrRy_Sv_rTXVWkpiXHwlw&amp;s\"/>,\n",
       " <img alt=\"\" class=\"yWs4tf\" src=\"https://encrypted-tbn0.gstatic.com/images?q=tbn:ANd9GcRH_DbJklV1yi6SfL9QCLllhUZrJPmeBMO9NYlOs-ZSPrDGJSWCekQKRAXknQ&amp;s\"/>,\n",
       " <img alt=\"\" class=\"yWs4tf\" src=\"https://encrypted-tbn0.gstatic.com/images?q=tbn:ANd9GcS3R1aGEGS7JDq5Bx1f4txDZr6LmVWA98e_JEj34pk6B2OJXijenZeG_DdK&amp;s\"/>]"
      ]
     },
     "execution_count": 27,
     "metadata": {},
     "output_type": "execute_result"
    }
   ],
   "source": [
    "image_tags=soup.find_all(\"img\")\n",
    "image_tags"
   ]
  },
  {
   "cell_type": "code",
   "execution_count": 28,
   "id": "fe995128",
   "metadata": {},
   "outputs": [],
   "source": [
    "del image_tags[0]"
   ]
  },
  {
   "cell_type": "code",
   "execution_count": 29,
   "id": "0b023a98",
   "metadata": {},
   "outputs": [
    {
     "data": {
      "text/plain": [
       "[<img alt=\"\" class=\"yWs4tf\" src=\"https://encrypted-tbn0.gstatic.com/images?q=tbn:ANd9GcSK5yCaJ2Z89H3mjG2pVjY9N4R5oiPNQPgSk0yYX4Wiv3mMSccD2ttNoKKUgg&amp;s\"/>,\n",
       " <img alt=\"\" class=\"yWs4tf\" src=\"https://encrypted-tbn0.gstatic.com/images?q=tbn:ANd9GcSsTQE9kUgA7CpXnlWeWO7nMT28THW_0zLfeLBhDC57BXHpZl6RjtWlXvCDD2M&amp;s\"/>,\n",
       " <img alt=\"\" class=\"yWs4tf\" src=\"https://encrypted-tbn0.gstatic.com/images?q=tbn:ANd9GcSjWdRodG8Y6ldFuSq2fgASCmjbfVVIzbnKcbwvpoULo3BBNC4lcGn3U3oppQ&amp;s\"/>,\n",
       " <img alt=\"\" class=\"yWs4tf\" src=\"https://encrypted-tbn0.gstatic.com/images?q=tbn:ANd9GcTReV0LciH03tq8BhPJQUDlahamoD23oX5-BsMeyykdWYERtg_Z-AkbRfyG9gs&amp;s\"/>,\n",
       " <img alt=\"\" class=\"yWs4tf\" src=\"https://encrypted-tbn0.gstatic.com/images?q=tbn:ANd9GcR31yH7qlDziUlJXlHkXWecPZWAX-UXw5HvmxOTVjhraNS4IrYozrED5TWnDQ&amp;s\"/>,\n",
       " <img alt=\"\" class=\"yWs4tf\" src=\"https://encrypted-tbn0.gstatic.com/images?q=tbn:ANd9GcSApOD8cC7Jh33c0VqbcFkcmx0og9wr1DYsD50a8Tp3p-0I33M_SuuLXA0Kizk&amp;s\"/>,\n",
       " <img alt=\"\" class=\"yWs4tf\" src=\"https://encrypted-tbn0.gstatic.com/images?q=tbn:ANd9GcRC7PXGvWDQRZyszF12W3RoXjr_nZ0Ox_CnclTzEmkLtB72VCOpuxZthQ2ib14&amp;s\"/>,\n",
       " <img alt=\"\" class=\"yWs4tf\" src=\"https://encrypted-tbn0.gstatic.com/images?q=tbn:ANd9GcT31MU-l5iezqCLOPE2jeiBB0geQsn8njIF0T290gdxybDBKMJOC5V1jM9QAg&amp;s\"/>,\n",
       " <img alt=\"\" class=\"yWs4tf\" src=\"https://encrypted-tbn0.gstatic.com/images?q=tbn:ANd9GcSYb2hCfNGHcxzN5b9S3ssbiROUoNyLW_WYSLKPOiUjeTmd23VX1a3T3e7Vlfk&amp;s\"/>,\n",
       " <img alt=\"\" class=\"yWs4tf\" src=\"https://encrypted-tbn0.gstatic.com/images?q=tbn:ANd9GcRLqGxMbCeVkZIDV3mQfmlpSxuBcW4YTlZBp78_utfaZ7ACU-1GI0fyT3cQVA&amp;s\"/>,\n",
       " <img alt=\"\" class=\"yWs4tf\" src=\"https://encrypted-tbn0.gstatic.com/images?q=tbn:ANd9GcS8KTiPsdIdv6tCZuf-oRwHoP4zesJHEmjSw7cAb2DxIRKzl8eI7bxEupbJGQI&amp;s\"/>,\n",
       " <img alt=\"\" class=\"yWs4tf\" src=\"https://encrypted-tbn0.gstatic.com/images?q=tbn:ANd9GcT1wPMwjom0BIO31H3orhKUkYsbT5oN4zOcNxb7iJU6UZEW74DL2MK14EkYsUc&amp;s\"/>,\n",
       " <img alt=\"\" class=\"yWs4tf\" src=\"https://encrypted-tbn0.gstatic.com/images?q=tbn:ANd9GcTF27J5DbugDvO5PfQZVxpxWaYymNDAlTcQRep6vIwaWkt4MHgXkAnf2dHCUbk&amp;s\"/>,\n",
       " <img alt=\"\" class=\"yWs4tf\" src=\"https://encrypted-tbn0.gstatic.com/images?q=tbn:ANd9GcRUmjrvGXJizjGvSXrZg2hAqbeIYK_tTwBST4GWzLF1IORFCBn3VI-ZPXIr5_w&amp;s\"/>,\n",
       " <img alt=\"\" class=\"yWs4tf\" src=\"https://encrypted-tbn0.gstatic.com/images?q=tbn:ANd9GcQMzIq1yMrFHamuJKT8uT9Mws9uEpBjvIn9NcqQTjrjCVLYbHqNjuYlnSk4GDE&amp;s\"/>,\n",
       " <img alt=\"\" class=\"yWs4tf\" src=\"https://encrypted-tbn0.gstatic.com/images?q=tbn:ANd9GcTdVtTUCV87q1r5a3BImPK6HRaZOcpYTzyjehh7WRZq4qeefQCZGQNj1S6NeB0&amp;s\"/>,\n",
       " <img alt=\"\" class=\"yWs4tf\" src=\"https://encrypted-tbn0.gstatic.com/images?q=tbn:ANd9GcQXhRozPeN_ofFzgMvQcHZvcplv3EpOrLtmrSnBG88kwoJo8RFn0Ev3aLykTYA&amp;s\"/>,\n",
       " <img alt=\"\" class=\"yWs4tf\" src=\"https://encrypted-tbn0.gstatic.com/images?q=tbn:ANd9GcRbZJgD7iZw2inZMyqTQA6ceeInZeJ469AwEeHVKdrRy_Sv_rTXVWkpiXHwlw&amp;s\"/>,\n",
       " <img alt=\"\" class=\"yWs4tf\" src=\"https://encrypted-tbn0.gstatic.com/images?q=tbn:ANd9GcRH_DbJklV1yi6SfL9QCLllhUZrJPmeBMO9NYlOs-ZSPrDGJSWCekQKRAXknQ&amp;s\"/>,\n",
       " <img alt=\"\" class=\"yWs4tf\" src=\"https://encrypted-tbn0.gstatic.com/images?q=tbn:ANd9GcS3R1aGEGS7JDq5Bx1f4txDZr6LmVWA98e_JEj34pk6B2OJXijenZeG_DdK&amp;s\"/>]"
      ]
     },
     "execution_count": 29,
     "metadata": {},
     "output_type": "execute_result"
    }
   ],
   "source": [
    "(image_tags)"
   ]
  },
  {
   "cell_type": "code",
   "execution_count": 30,
   "id": "f8d96758",
   "metadata": {},
   "outputs": [
    {
     "data": {
      "text/plain": [
       "20"
      ]
     },
     "execution_count": 30,
     "metadata": {},
     "output_type": "execute_result"
    }
   ],
   "source": [
    "len(image_tags)"
   ]
  },
  {
   "cell_type": "code",
   "execution_count": 33,
   "id": "1c68d171",
   "metadata": {},
   "outputs": [],
   "source": [
    "for i in image_tags:\n",
    "    image_url=(i['src'])\n",
    "    image_data=requests.get(image_url).content\n",
    "    with open (os.path.join(save_dir,f\"{query}_{image_tags.index(i)}.jpg\"),\"wb\") as f :\n",
    "        f.write(image_data)\n",
    "    "
   ]
  },
  {
   "cell_type": "code",
   "execution_count": null,
   "id": "56020e93",
   "metadata": {},
   "outputs": [],
   "source": []
  }
 ],
 "metadata": {
  "kernelspec": {
   "display_name": "Python 3 (ipykernel)",
   "language": "python",
   "name": "python3"
  },
  "language_info": {
   "codemirror_mode": {
    "name": "ipython",
    "version": 3
   },
   "file_extension": ".py",
   "mimetype": "text/x-python",
   "name": "python",
   "nbconvert_exporter": "python",
   "pygments_lexer": "ipython3",
   "version": "3.9.13"
  }
 },
 "nbformat": 4,
 "nbformat_minor": 5
}
